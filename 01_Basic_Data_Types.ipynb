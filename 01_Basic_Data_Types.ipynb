{
 "cells": [
  {
   "cell_type": "code",
   "execution_count": null,
   "id": "d6b8258e-e993-42f3-84f0-cc29541f139c",
   "metadata": {},
   "outputs": [],
   "source": [
    "# Find the runner up score\n",
    "if __name__ == '__main__':\n",
    "    n = int(input())\n",
    "    arr = list(map(int, input().split()))\n",
    "    arr = list(set(arr))\n",
    "    print(arr[-2])\n",
    "\n"
   ]
  },
  {
   "cell_type": "code",
   "execution_count": null,
   "id": "a7cc2a34-b50c-4467-bea1-f7635210a343",
   "metadata": {},
   "outputs": [],
   "source": [
    "#Nested List\n",
    "if __name__ == '__main__':\n",
    "    mark = []\n",
    "    for _ in range(int(input())):\n",
    "        name = input()\n",
    "        score = float(input())\n",
    "        mark_list = [name,score]\n",
    "        mark.append(mark_list)\n",
    "    marks = sorted(set(mar[1] for mar in mark))\n",
    "    sec_lowest = marks[1]\n",
    "    stu_name = sorted(mar[0] for mar in mark if mar[1]==sec_lowest)\n",
    "    for stu in stu_name:\n",
    "        print(stu)\n",
    "    \n",
    "\n",
    "    \n",
    "    "
   ]
  },
  {
   "cell_type": "code",
   "execution_count": 6,
   "id": "1bbd9a8b-62f5-4c3b-b550-b7a653104080",
   "metadata": {},
   "outputs": [
    {
     "name": "stdin",
     "output_type": "stream",
     "text": [
      " 2\n",
      " a 12 32 11\n",
      " b 11\n",
      " a\n"
     ]
    },
    {
     "name": "stdout",
     "output_type": "stream",
     "text": [
      "27.50\n"
     ]
    }
   ],
   "source": [
    "#Finding the percentage\n",
    "if __name__ == '__main__':\n",
    "    n = int(input())\n",
    "    student_marks = {}\n",
    "    for _ in range(n):\n",
    "        name, *line = input().split()\n",
    "        scores = list(map(float, line))\n",
    "        student_marks[name] = scores\n",
    "    query_name = input()\n",
    "    res = sum(student_marks[query_name])/3\n",
    "    print(f\"{res:.2f}\")\n",
    "    \n"
   ]
  },
  {
   "cell_type": "code",
   "execution_count": 10,
   "id": "ab457cf1-e5b0-4b11-82ff-4195093bdb71",
   "metadata": {},
   "outputs": [
    {
     "name": "stdin",
     "output_type": "stream",
     "text": [
      " 2\n",
      " insert 0 1\n",
      " print\n"
     ]
    },
    {
     "name": "stdout",
     "output_type": "stream",
     "text": [
      "[1]\n"
     ]
    }
   ],
   "source": [
    "#List\n",
    "\n",
    "#Consider a list (list = []). You can perform the following commands:\n",
    "\n",
    "#insert i e: Insert integer  at position .\n",
    "#print: Print the list.\n",
    "#remove e: Delete the first occurrence of integer .\n",
    "#append e: Insert integer  at the end of the list.\n",
    "#sort: Sort the list.\n",
    "#pop: Pop the last element from the list.\n",
    "#reverse: Reverse the list.\n",
    "#Initialize your list and read in the value of  followed by  lines of commands where each command will be of the  types listed above. Iterate through each command in order and perform the corresponding operation on your list.\n",
    "\n",
    "n = int(input())\n",
    "l = []\n",
    "for i in range(n):\n",
    "    option = input().split(' ')\n",
    "    if option[0] == \"insert\":\n",
    "        l.insert(int(option[1]), int(option[2]))\n",
    "    elif option[0] == \"print\":\n",
    "        print(l)\n",
    "    elif option[0] == \"remove\":\n",
    "        l.remove(int(option[1]))\n",
    "    elif option[0] == \"append\":\n",
    "        l.append(int(option[1]))\n",
    "    elif option[0] == \"sort\":\n",
    "        l.sort()\n",
    "    elif option[0] == \"pop\":\n",
    "        l.pop()\n",
    "    elif option[0] == \"reverse\":\n",
    "        l.reverse()\n",
    "    \n",
    "        \n",
    "    \n",
    "        "
   ]
  },
  {
   "cell_type": "code",
   "execution_count": 14,
   "id": "71a26e5e-5c2d-4395-9458-c6a40c566491",
   "metadata": {},
   "outputs": [
    {
     "name": "stdin",
     "output_type": "stream",
     "text": [
      " 2\n",
      " 1 2\n"
     ]
    },
    {
     "name": "stdout",
     "output_type": "stream",
     "text": [
      "-3550055125485641917\n",
      "5740354900026072187\n"
     ]
    }
   ],
   "source": [
    "#Tuples\n",
    "if __name__ == '__main__':\n",
    "    n = int(input())\n",
    "    integer_list = map(int, input().split())\n",
    "    t = tuple(integer_list)\n",
    "    print(hash(t))\n",
    "    print(hash(tuple(integer_list)))"
   ]
  },
  {
   "cell_type": "code",
   "execution_count": null,
   "id": "6f41608d-3171-4454-93b3-f9f3ed9ac0b6",
   "metadata": {},
   "outputs": [],
   "source": []
  }
 ],
 "metadata": {
  "kernelspec": {
   "display_name": "Python 3 (ipykernel)",
   "language": "python",
   "name": "python3"
  },
  "language_info": {
   "codemirror_mode": {
    "name": "ipython",
    "version": 3
   },
   "file_extension": ".py",
   "mimetype": "text/x-python",
   "name": "python",
   "nbconvert_exporter": "python",
   "pygments_lexer": "ipython3",
   "version": "3.8.19"
  }
 },
 "nbformat": 4,
 "nbformat_minor": 5
}
